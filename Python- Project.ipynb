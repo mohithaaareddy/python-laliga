{
 "cells": [
  {
   "cell_type": "markdown",
   "id": "d0083d9c",
   "metadata": {},
   "source": [
    "<span style=\"font-family: Arial; font-weight:bold;font-size:3em;color:#0e92ea;\">  Project - Python"
   ]
  },
  {
   "cell_type": "markdown",
   "id": "70cb16fd",
   "metadata": {},
   "source": [
    "**Domain:** Sports\n",
    "\n",
    "**Context:** \n",
    "La Liga is the men's top professional football division of the Spanish football league system. The \n",
    "dataset contains information on all the teams that have participated in all the past tournaments. It has \n",
    "data about how many goals each team scored, conceded, how many times they came within the first 6 \n",
    "positions, how many seasons they have qualified, their best position in the past, etc.\n",
    "\n",
    "**Data Description:**\n",
    "Laliga.csv - The data set contains information on all the teams so far participated in all the past \n",
    "tournaments\n",
    "\n",
    "**Attribute Information:** \n",
    "* **Pos** - Position in among the list of all teams\n",
    "* **Team Seasons** - how many seasons team has played so far\n",
    "* **Points** - total number of points of the team\n",
    "* **GamesPlayed**- total number of games played so far\n",
    "* **GamesWon**- total number of games won so far\n",
    "* **GamesDrawn** - total number of games drawn so far\n",
    "* **GamesLost** - total number of games lost so far\n",
    "* **GoalsFor** - total number of goals by the team\n",
    "* **GoalsAgains** - total number of goals against the team\n",
    "* **Champion** - total number of times it team is a champion\n",
    "* **Runner-up** - total number of times it team is a runner-up\n",
    "* **Third / Fourth/ Fifth/ Sixth** - total number of times it team came in a third/fourth/fifth/sixth position\n",
    "* **Debut** - debut year\n",
    "* **BestPosition** - best position of the team\n",
    "\n",
    "**Objective:**\n",
    "* Using Python functions and we want to come up with metrics which can be used to gauge the winning team in the upcoming La Liga cup (Football tournament).\n",
    "* Also we want to analyze a few patterns like which team has been most consistent across seasons. Which team has the highest number of goal difference. Which team has the best ranking. \n"
   ]
  },
  {
   "cell_type": "markdown",
   "id": "5746e423",
   "metadata": {},
   "source": [
    "<span style=\"font-family: Arial; font-weight:bold;font-size:2em;color:#00008B;\">  Task-1 Importing the library:"
   ]
  },
  {
   "cell_type": "code",
   "execution_count": 1,
   "id": "5d3c8bd1",
   "metadata": {},
   "outputs": [],
   "source": [
    "import numpy as np \n",
    "import pandas as pd \n",
    "from matplotlib import pyplot as plt\n",
    "import matplotlib.pyplot as plt\n",
    "import seaborn as sns\n",
    "import statsmodels.api as sm\n",
    "import scipy.stats as stats\n",
    "from scipy.stats import chisquare,chi2_contingency\n",
    "from scipy.stats import ttest_ind\n",
    "from scipy.stats import f_oneway\n",
    "from sklearn.preprocessing import LabelEncoder\n",
    "import warnings\n",
    "warnings.filterwarnings(\"ignore\")\n",
    "import copy"
   ]
  },
  {
   "cell_type": "markdown",
   "id": "4e7405f5",
   "metadata": {},
   "source": [
    "<span style=\"font-family: Arial; font-weight:bold;font-size:2em;color:#00008B;\"> Task-2 Read data as Data frame:"
   ]
  },
  {
   "cell_type": "code",
   "execution_count": 1,
   "id": "4a9ebe65",
   "metadata": {},
   "outputs": [
    {
     "ename": "NameError",
     "evalue": "name 'pd' is not defined",
     "output_type": "error",
     "traceback": [
      "\u001b[1;31m---------------------------------------------------------------------------\u001b[0m",
      "\u001b[1;31mNameError\u001b[0m                                 Traceback (most recent call last)",
      "Input \u001b[1;32mIn [1]\u001b[0m, in \u001b[0;36m<cell line: 1>\u001b[1;34m()\u001b[0m\n\u001b[1;32m----> 1\u001b[0m laliga_scores \u001b[38;5;241m=\u001b[39m \u001b[43mpd\u001b[49m\u001b[38;5;241m.\u001b[39mread_csv(\u001b[38;5;124m'\u001b[39m\u001b[38;5;124mC:\u001b[39m\u001b[38;5;130;01m\\\\\u001b[39;00m\u001b[38;5;124mUsers\u001b[39m\u001b[38;5;130;01m\\\\\u001b[39;00m\u001b[38;5;124mMohitha Panagam\u001b[39m\u001b[38;5;130;01m\\\\\u001b[39;00m\u001b[38;5;124mDesktop\u001b[39m\u001b[38;5;130;01m\\\\\u001b[39;00m\u001b[38;5;124mEDART\u001b[39m\u001b[38;5;130;01m\\\\\u001b[39;00m\u001b[38;5;124mSTATS\u001b[39m\u001b[38;5;130;01m\\\\\u001b[39;00m\u001b[38;5;124mPROJECT\u001b[39m\u001b[38;5;130;01m\\\\\u001b[39;00m\u001b[38;5;124mLaliga_scores\u001b[39m\u001b[38;5;124m'\u001b[39m)\n",
      "\u001b[1;31mNameError\u001b[0m: name 'pd' is not defined"
     ]
    }
   ],
   "source": [
    "laliga_scores = pd.read_csv('C:\\\\Users\\\\Mohitha Panagam\\\\Desktop\\\\EDART\\\\STATS\\\\PROJECT\\\\Laliga_scores') "
   ]
  },
  {
   "cell_type": "code",
   "execution_count": 2,
   "id": "89a544ee",
   "metadata": {},
   "outputs": [
    {
     "ename": "NameError",
     "evalue": "name 'laliga_scores' is not defined",
     "output_type": "error",
     "traceback": [
      "\u001b[1;31m---------------------------------------------------------------------------\u001b[0m",
      "\u001b[1;31mNameError\u001b[0m                                 Traceback (most recent call last)",
      "Input \u001b[1;32mIn [2]\u001b[0m, in \u001b[0;36m<cell line: 1>\u001b[1;34m()\u001b[0m\n\u001b[1;32m----> 1\u001b[0m \u001b[43mlaliga_scores\u001b[49m\u001b[38;5;241m.\u001b[39mhead(\u001b[38;5;241m10\u001b[39m)\n",
      "\u001b[1;31mNameError\u001b[0m: name 'laliga_scores' is not defined"
     ]
    }
   ],
   "source": [
    "laliga_scores.head(10)"
   ]
  },
  {
   "cell_type": "code",
   "execution_count": null,
   "id": "e1203fa2",
   "metadata": {},
   "outputs": [],
   "source": []
  }
 ],
 "metadata": {
  "kernelspec": {
   "display_name": "Python 3",
   "language": "python",
   "name": "python3"
  },
  "language_info": {
   "codemirror_mode": {
    "name": "ipython",
    "version": 3
   },
   "file_extension": ".py",
   "mimetype": "text/x-python",
   "name": "python",
   "nbconvert_exporter": "python",
   "pygments_lexer": "ipython3",
   "version": "3.9.12"
  }
 },
 "nbformat": 4,
 "nbformat_minor": 5
}
